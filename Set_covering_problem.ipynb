{
  "nbformat": 4,
  "nbformat_minor": 0,
  "metadata": {
    "colab": {
      "provenance": []
    },
    "kernelspec": {
      "name": "python3",
      "display_name": "Python 3"
    },
    "language_info": {
      "name": "python"
    }
  },
  "cells": [
    {
      "cell_type": "code",
      "execution_count": null,
      "metadata": {
        "colab": {
          "base_uri": "https://localhost:8080/"
        },
        "id": "B2VCDEp1yuwz",
        "outputId": "b9a616c1-2960-41aa-e209-490bdb4be842"
      },
      "outputs": [
        {
          "output_type": "stream",
          "name": "stdout",
          "text": [
            "\u001b[2K   \u001b[90m━━━━━━━━━━━━━━━━━━━━━━━━━━━━━━━━━━━━━━━━\u001b[0m \u001b[32m5.7/5.7 MB\u001b[0m \u001b[31m24.1 MB/s\u001b[0m eta \u001b[36m0:00:00\u001b[0m\n",
            "\u001b[?25h"
          ]
        }
      ],
      "source": [
        "# Install dependencies\n",
        "%pip install -q amplpy\n",
        "%matplotlib inline\n",
        "from matplotlib import pyplot as plt\n",
        "#!pip install gurobipy pyomo"
      ]
    },
    {
      "cell_type": "code",
      "source": [
        "# Google Colab & Kaggle integration\n",
        "from amplpy import AMPL, ampl_notebook\n",
        "\n",
        "ampl = ampl_notebook(\n",
        "    modules=[\"gurobi\"],  # modules to install\n",
        "    license_uuid=\"08244eba-f688-487a-922e-c6f39529fd48\",  # license to use\n",
        ")  # instantiate AMPL object and register magics"
      ],
      "metadata": {
        "colab": {
          "base_uri": "https://localhost:8080/"
        },
        "id": "V3pGx0RrzLGA",
        "outputId": "14d0c11b-a428-41e9-f54b-cdcd79df25cb"
      },
      "execution_count": null,
      "outputs": [
        {
          "output_type": "stream",
          "name": "stdout",
          "text": [
            "Licensed to Bundle #7015.7507 expiring 20250731: Metaheuristic Optimization, Prof. Iris Mart?nez, Universidad Aut?noma de Nuevo Le?n.\n"
          ]
        }
      ]
    },
    {
      "cell_type": "code",
      "source": [
        "%%writefile modelo.mod\n",
        "param n; #cantidad de centros\n",
        "param m; #cantidad de regiones\n",
        "\n",
        "# Sets\n",
        "set N := 1..n; # Set of centros de servicios\n",
        "set M := 1..m; # Set of regiones\n",
        "\n",
        "#parametros\n",
        "param a{M,N} >=0; # matriz que establece si la region i puede ser servida por el centro j\n",
        "param c{N} >=0; #costo por instalar centro j\n",
        "\n",
        "#variables\n",
        "var x{N} >=0, binary; #variable que toma el valor de 1 si el centro j se instala, cero en caso contrario\n",
        "\n",
        "# Objective function\n",
        "minimize costo: sum{i in N} c[i] * x[i];\n",
        "\n",
        "# Constraints\n",
        "\n",
        "# Cada región debe ser cubierta\n",
        "subject to aseguracubrimiento {i in M}:\n",
        "sum{j in N} a[i,j]*x[j] >= 1;\n",
        "\n",
        "\n",
        "\n",
        "\n"
      ],
      "metadata": {
        "colab": {
          "base_uri": "https://localhost:8080/"
        },
        "id": "_G_WvPhHzRVs",
        "outputId": "6e29ad88-548c-4685-eb89-0d7b0c83e272"
      },
      "execution_count": null,
      "outputs": [
        {
          "output_type": "stream",
          "name": "stdout",
          "text": [
            "Writing modelo.mod\n"
          ]
        }
      ]
    },
    {
      "cell_type": "code",
      "source": [
        "%%writefile datos.dat\n",
        "\n",
        "param n = 7; # Number of centers;\n",
        "param m = 10; # Number of regiones\n",
        "\n",
        "param c:=\n",
        "1\t1\n",
        "2\t1\n",
        "3\t1\n",
        "4\t1\n",
        "5\t1\n",
        "6\t1\n",
        "7\t1\n",
        ";\n",
        "\n",
        "\n",
        "\n",
        "param a:\n",
        "1\t2\t3\t4\t5\t6\t7:=\n",
        "1\t1\t0\t0\t0\t0\t0\t1\n",
        "2\t1\t0\t1\t0\t0\t0\t0\n",
        "3\t0\t1\t1\t0\t0\t0\t0\n",
        "4\t1\t0\t0\t0\t0\t1\t1\n",
        "5\t1\t0\t1\t0\t0\t1\t0\n",
        "6\t0\t1\t1\t0\t0\t0\t0\n",
        "7\t0\t1\t0\t1\t0\t0\t0\n",
        "8\t0\t0\t1\t1\t0\t0\t0\n",
        "9\t0\t0\t0\t1\t1\t0\t0\n",
        "10\t0\t0\t0\t0\t1\t1\t0\n",
        ";\n"
      ],
      "metadata": {
        "colab": {
          "base_uri": "https://localhost:8080/"
        },
        "id": "x3cqvjdp0tL3",
        "outputId": "434b3beb-d7d0-481d-830c-771564c935f7"
      },
      "execution_count": null,
      "outputs": [
        {
          "output_type": "stream",
          "name": "stdout",
          "text": [
            "Writing datos.dat\n"
          ]
        }
      ]
    },
    {
      "cell_type": "code",
      "source": [
        "%%ampl_eval\n",
        "reset; # to clean the previous model\n",
        "model modelo.mod;\n",
        "data datos.dat;\n",
        "option solver gurobi;\n",
        "option gurobi_options 'outlev=1';\n",
        "solve;\n",
        "display x;"
      ],
      "metadata": {
        "colab": {
          "base_uri": "https://localhost:8080/"
        },
        "id": "_GTbH_6y2AJC",
        "outputId": "5626b4aa-43df-46d6-9554-9de610da416c"
      },
      "execution_count": null,
      "outputs": [
        {
          "output_type": "stream",
          "name": "stdout",
          "text": [
            "Gurobi 12.0.0: Set parameter LogToConsole to value 1\n",
            "  tech:outlev = 1\n",
            "Set parameter InfUnbdInfo to value 1\n",
            "Gurobi Optimizer version 12.0.0 build v12.0.0rc1 (linux64 - \"Ubuntu 22.04.4 LTS\")\n",
            "\n",
            "CPU model: Intel(R) Xeon(R) CPU @ 2.20GHz, instruction set [SSE2|AVX|AVX2]\n",
            "Thread count: 1 physical cores, 2 logical processors, using up to 2 threads\n",
            "\n",
            "Non-default parameters:\n",
            "InfUnbdInfo  1\n",
            "\n",
            "Optimize a model with 10 rows, 7 columns and 22 nonzeros\n",
            "Model fingerprint: 0xf87143cc\n",
            "Variable types: 0 continuous, 7 integer (0 binary)\n",
            "Coefficient statistics:\n",
            "  Matrix range     [1e+00, 1e+00]\n",
            "  Objective range  [1e+00, 1e+00]\n",
            "  Bounds range     [1e+00, 1e+00]\n",
            "  RHS range        [1e+00, 1e+00]\n",
            "Found heuristic solution: objective 4.0000000\n",
            "Presolve removed 10 rows and 7 columns\n",
            "Presolve time: 0.00s\n",
            "Presolve: All rows and columns removed\n",
            "\n",
            "Explored 0 nodes (0 simplex iterations) in 0.00 seconds (0.00 work units)\n",
            "Thread count was 1 (of 2 available processors)\n",
            "\n",
            "Solution count 1: 4 \n",
            "\n",
            "Optimal solution found (tolerance 1.00e-04)\n",
            "Best objective 4.000000000000e+00, best bound 4.000000000000e+00, gap 0.0000%\n",
            "Gurobi 12.0.0: optimal solution; objective 4\n",
            "0 simplex iterations\n",
            "x [*] :=\n",
            "1  1\n",
            "2  0\n",
            "3  1\n",
            "4  1\n",
            "5  1\n",
            "6  0\n",
            "7  0\n",
            ";\n",
            "\n"
          ]
        }
      ]
    }
  ]
}